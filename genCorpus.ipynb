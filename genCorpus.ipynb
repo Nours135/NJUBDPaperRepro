{
 "cells": [
  {
   "cell_type": "code",
   "execution_count": 1,
   "metadata": {},
   "outputs": [
    {
     "ename": "KeyboardInterrupt",
     "evalue": "",
     "output_type": "error",
     "traceback": [
      "\u001b[1;31m---------------------------------------------------------------------------\u001b[0m",
      "\u001b[1;31mKeyboardInterrupt\u001b[0m                         Traceback (most recent call last)",
      "\u001b[1;32md:\\nju\\lessons\\大数据系统原理与应用\\复现\\genCorpus.ipynb Cell 1\u001b[0m line \u001b[0;36m1\n\u001b[0;32m      <a href='vscode-notebook-cell:/d%3A/nju/lessons/%E5%A4%A7%E6%95%B0%E6%8D%AE%E7%B3%BB%E7%BB%9F%E5%8E%9F%E7%90%86%E4%B8%8E%E5%BA%94%E7%94%A8/%E5%A4%8D%E7%8E%B0/genCorpus.ipynb#W0sZmlsZQ%3D%3D?line=5'>6</a>\u001b[0m \u001b[39m# 还是有个小bug，不知道怎么回事，命名我在那边改了，这里还是无法遍历全部语料库\u001b[39;00m\n\u001b[0;32m      <a href='vscode-notebook-cell:/d%3A/nju/lessons/%E5%A4%A7%E6%95%B0%E6%8D%AE%E7%B3%BB%E7%BB%9F%E5%8E%9F%E7%90%86%E4%B8%8E%E5%BA%94%E7%94%A8/%E5%A4%8D%E7%8E%B0/genCorpus.ipynb#W0sZmlsZQ%3D%3D?line=6'>7</a>\u001b[0m \u001b[39mfor\u001b[39;00m text \u001b[39min\u001b[39;00m read_wiki() :\n\u001b[0;32m      <a href='vscode-notebook-cell:/d%3A/nju/lessons/%E5%A4%A7%E6%95%B0%E6%8D%AE%E7%B3%BB%E7%BB%9F%E5%8E%9F%E7%90%86%E4%B8%8E%E5%BA%94%E7%94%A8/%E5%A4%8D%E7%8E%B0/genCorpus.ipynb#W0sZmlsZQ%3D%3D?line=7'>8</a>\u001b[0m     \u001b[39m#print(text[:10])\u001b[39;00m\n\u001b[0;32m      <a href='vscode-notebook-cell:/d%3A/nju/lessons/%E5%A4%A7%E6%95%B0%E6%8D%AE%E7%B3%BB%E7%BB%9F%E5%8E%9F%E7%90%86%E4%B8%8E%E5%BA%94%E7%94%A8/%E5%A4%8D%E7%8E%B0/genCorpus.ipynb#W0sZmlsZQ%3D%3D?line=8'>9</a>\u001b[0m     \u001b[39m#input('s: ')\u001b[39;00m\n\u001b[1;32m---> <a href='vscode-notebook-cell:/d%3A/nju/lessons/%E5%A4%A7%E6%95%B0%E6%8D%AE%E7%B3%BB%E7%BB%9F%E5%8E%9F%E7%90%86%E4%B8%8E%E5%BA%94%E7%94%A8/%E5%A4%8D%E7%8E%B0/genCorpus.ipynb#W0sZmlsZQ%3D%3D?line=9'>10</a>\u001b[0m     test_voca\u001b[39m.\u001b[39mappend(wash_chinese(text))\n\u001b[0;32m     <a href='vscode-notebook-cell:/d%3A/nju/lessons/%E5%A4%A7%E6%95%B0%E6%8D%AE%E7%B3%BB%E7%BB%9F%E5%8E%9F%E7%90%86%E4%B8%8E%E5%BA%94%E7%94%A8/%E5%A4%8D%E7%8E%B0/genCorpus.ipynb#W0sZmlsZQ%3D%3D?line=10'>11</a>\u001b[0m     t \u001b[39m+\u001b[39m\u001b[39m=\u001b[39m \u001b[39m1\u001b[39m\n\u001b[0;32m     <a href='vscode-notebook-cell:/d%3A/nju/lessons/%E5%A4%A7%E6%95%B0%E6%8D%AE%E7%B3%BB%E7%BB%9F%E5%8E%9F%E7%90%86%E4%B8%8E%E5%BA%94%E7%94%A8/%E5%A4%8D%E7%8E%B0/genCorpus.ipynb#W0sZmlsZQ%3D%3D?line=11'>12</a>\u001b[0m test_voca\u001b[39m.\u001b[39mgenerate()\n",
      "File \u001b[1;32md:\\nju\\lessons\\大数据系统原理与应用\\复现\\func4skipgram.py:85\u001b[0m, in \u001b[0;36mwash_chinese\u001b[1;34m(line)\u001b[0m\n\u001b[0;32m     83\u001b[0m     resu \u001b[39m=\u001b[39m []\n\u001b[0;32m     84\u001b[0m     \u001b[39mfor\u001b[39;00m a \u001b[39min\u001b[39;00m line:\n\u001b[1;32m---> 85\u001b[0m         resu \u001b[39m+\u001b[39m\u001b[39m=\u001b[39m wash_chinese(a)\n\u001b[0;32m     86\u001b[0m     \u001b[39mreturn\u001b[39;00m resu\n\u001b[0;32m     89\u001b[0m \u001b[39m# 去除韩语字符 和 标点 --()（）——不去除\u001b[39;00m\n",
      "File \u001b[1;32md:\\nju\\lessons\\大数据系统原理与应用\\复现\\func4skipgram.py:100\u001b[0m, in \u001b[0;36mwash_chinese\u001b[1;34m(line)\u001b[0m\n\u001b[0;32m     95\u001b[0m     line \u001b[39m=\u001b[39m line\u001b[39m.\u001b[39mreplace(item, \u001b[39m'\u001b[39m\u001b[39m'\u001b[39m)\n\u001b[0;32m     97\u001b[0m \u001b[39m# 去除字母?\u001b[39;00m\n\u001b[0;32m     98\u001b[0m \n\u001b[0;32m     99\u001b[0m \u001b[39m# 繁简转换\u001b[39;00m\n\u001b[1;32m--> 100\u001b[0m cc \u001b[39m=\u001b[39m OpenCC(\u001b[39m'\u001b[39m\u001b[39mt2s\u001b[39m\u001b[39m'\u001b[39m) \n\u001b[0;32m    101\u001b[0m line \u001b[39m=\u001b[39m cc\u001b[39m.\u001b[39mconvert(line)\n\u001b[0;32m    102\u001b[0m \u001b[39mreturn\u001b[39;00m line\n",
      "File \u001b[1;32md:\\Anaconda\\Lib\\site-packages\\opencc\\opencc.py:55\u001b[0m, in \u001b[0;36mOpenCC.__init__\u001b[1;34m(self, conversion)\u001b[0m\n\u001b[0;32m     52\u001b[0m \u001b[39mself\u001b[39m\u001b[39m.\u001b[39msplit_chars_re \u001b[39m=\u001b[39m re\u001b[39m.\u001b[39mcompile(\n\u001b[0;32m     53\u001b[0m     \u001b[39mr\u001b[39m\u001b[39m'\u001b[39m\u001b[39m(\u001b[39m\u001b[39m\\\u001b[39m\u001b[39ms+|-|,|\u001b[39m\u001b[39m\\\u001b[39m\u001b[39m.|\u001b[39m\u001b[39m\\\u001b[39m\u001b[39m?|!|\u001b[39m\u001b[39m\\\u001b[39m\u001b[39m*|　|，|。|、|；|：|？|！|…|“|”|‘|’|『|』|「|」|﹁|﹂|—|－|（|）|《|》|〈|〉|～|．|／|＼|︒|︑|︔|︓|︿|﹀|︹|︺|︙|︐|［|﹇|］|﹈|︕|︖|︰|︳|︴|︽|︾|︵|︶|｛|︷|｝|︸|﹃|﹄|【|︻|】|︼)\u001b[39m\u001b[39m'\u001b[39m)\n\u001b[0;32m     54\u001b[0m \u001b[39mif\u001b[39;00m \u001b[39mself\u001b[39m\u001b[39m.\u001b[39mconversion \u001b[39mis\u001b[39;00m \u001b[39mnot\u001b[39;00m \u001b[39mNone\u001b[39;00m:\n\u001b[1;32m---> 55\u001b[0m     \u001b[39mself\u001b[39m\u001b[39m.\u001b[39m_init_dict()\n",
      "File \u001b[1;32md:\\Anaconda\\Lib\\site-packages\\opencc\\opencc.py:115\u001b[0m, in \u001b[0;36mOpenCC._init_dict\u001b[1;34m(self)\u001b[0m\n\u001b[0;32m    112\u001b[0m     \u001b[39mself\u001b[39m\u001b[39m.\u001b[39m_add_dict_chain(\u001b[39mself\u001b[39m\u001b[39m.\u001b[39m_dict_chain, chain\u001b[39m.\u001b[39mget(\u001b[39m'\u001b[39m\u001b[39mdict\u001b[39m\u001b[39m'\u001b[39m))\n\u001b[0;32m    114\u001b[0m \u001b[39mself\u001b[39m\u001b[39m.\u001b[39m_dict_chain_data \u001b[39m=\u001b[39m []\n\u001b[1;32m--> 115\u001b[0m \u001b[39mself\u001b[39m\u001b[39m.\u001b[39m_add_dictionaries(\u001b[39mself\u001b[39m\u001b[39m.\u001b[39m_dict_chain, \u001b[39mself\u001b[39m\u001b[39m.\u001b[39m_dict_chain_data)\n\u001b[0;32m    116\u001b[0m \u001b[39m# Make sure all dictionaries are in a list\u001b[39;00m\n\u001b[0;32m    117\u001b[0m \u001b[39mfor\u001b[39;00m index, c_dict \u001b[39min\u001b[39;00m \u001b[39menumerate\u001b[39m(\u001b[39mself\u001b[39m\u001b[39m.\u001b[39m_dict_chain_data):\n",
      "File \u001b[1;32md:\\Anaconda\\Lib\\site-packages\\opencc\\opencc.py:126\u001b[0m, in \u001b[0;36mOpenCC._add_dictionaries\u001b[1;34m(self, chain_list, chain_data)\u001b[0m\n\u001b[0;32m    124\u001b[0m \u001b[39mif\u001b[39;00m \u001b[39misinstance\u001b[39m(item, \u001b[39mlist\u001b[39m):\n\u001b[0;32m    125\u001b[0m     chain \u001b[39m=\u001b[39m []\n\u001b[1;32m--> 126\u001b[0m     \u001b[39mself\u001b[39m\u001b[39m.\u001b[39m_add_dictionaries(item, chain)\n\u001b[0;32m    127\u001b[0m     chain_data\u001b[39m.\u001b[39mappend(chain)\n\u001b[0;32m    128\u001b[0m \u001b[39melse\u001b[39;00m:\n",
      "File \u001b[1;32md:\\Anaconda\\Lib\\site-packages\\opencc\\opencc.py:136\u001b[0m, in \u001b[0;36mOpenCC._add_dictionaries\u001b[1;34m(self, chain_list, chain_data)\u001b[0m\n\u001b[0;32m    134\u001b[0m min_len \u001b[39m=\u001b[39m \u001b[39m1000\u001b[39m\n\u001b[0;32m    135\u001b[0m \u001b[39mwith\u001b[39;00m io\u001b[39m.\u001b[39mopen(item, \u001b[39m\"\u001b[39m\u001b[39mr\u001b[39m\u001b[39m\"\u001b[39m, encoding\u001b[39m=\u001b[39m\u001b[39m\"\u001b[39m\u001b[39mutf-8\u001b[39m\u001b[39m\"\u001b[39m) \u001b[39mas\u001b[39;00m f:\n\u001b[1;32m--> 136\u001b[0m     \u001b[39mfor\u001b[39;00m line \u001b[39min\u001b[39;00m f:\n\u001b[0;32m    137\u001b[0m         key, value \u001b[39m=\u001b[39m line\u001b[39m.\u001b[39mstrip()\u001b[39m.\u001b[39msplit(\u001b[39m'\u001b[39m\u001b[39m\\t\u001b[39;00m\u001b[39m'\u001b[39m)\n\u001b[0;32m    138\u001b[0m         map_dict[key] \u001b[39m=\u001b[39m value\n",
      "File \u001b[1;32m<frozen codecs>:319\u001b[0m, in \u001b[0;36mdecode\u001b[1;34m(self, input, final)\u001b[0m\n",
      "\u001b[1;31mKeyboardInterrupt\u001b[0m: "
     ]
    }
   ],
   "source": [
    "from func4skipgram import *\n",
    "\n",
    "test_voca = Vocab()\n",
    "\n",
    "\n",
    "def read_dia():\n",
    "    '''读取糖尿病的语料'''\n",
    "    home_path = '0521_new_format'\n",
    "    file_l = os.listdir(home_path)\n",
    "    for json_f in file_l:\n",
    "        data = [] #  以一个json为单位返回数据\n",
    "        f = open(home_path + '/'  + json_f, 'r', encoding='utf-8')\n",
    "        json_l = f.readlines()\n",
    "        f.close()\n",
    "        for line in json_l:\n",
    "            wiki_data = json.loads(line)\n",
    "            data.append(wiki_data['text'])\n"
   ]
  },
  {
   "cell_type": "code",
   "execution_count": null,
   "metadata": {},
   "outputs": [
    {
     "name": "stdout",
     "output_type": "stream",
     "text": [
      "[('铄', 12), ('辔', 12), ('宍', 12), ('乜', 12), ('颧', 12), ('滢', 12), ('绠', 12), ('嫄', 12), ('臊', 12), ('暠', 12), ('ว', 12), ('籾', 12), ('掴', 12), ('髋', 12), ('柰', 12), ('煚', 12), ('筅', 12), ('梏', 12), ('ム', 12), ('昖', 12), ('脇', 12), ('痿', 12), ('僰', 12), ('ל', 12), ('畀', 12), ('専', 12), ('鲮', 12), ('貘', 12), ('啲', 12), ('蛞', 12), ('蝓', 12), ('泫', 12), ('粄', 12), ('菖', 12), ('ケ', 12), ('榇', 12), ('ィ', 12), ('皑', 12), ('𡒉', 12), ('ボ', 12), ('吱', 12), ('窣', 12), ('欉', 12), ('疠', 11), ('酊', 11), ('尢', 11), ('龊', 11), ('ɪ', 11), ('Ⅴ', 11), ('Ⅳ', 11), ('襦', 11), ('镗', 11), ('缫', 11), ('垭', 11), ('泺', 11), ('郕', 11), ('笆', 11), ('汭', 11), ('ㄊ', 11), ('翙', 11)]\n"
     ]
    }
   ],
   "source": [
    "# 查看词频\n",
    "s = 6000\n",
    "print(test_voca._token_freqs[s:s + 60])"
   ]
  },
  {
   "cell_type": "code",
   "execution_count": null,
   "metadata": {},
   "outputs": [
    {
     "name": "stdout",
     "output_type": "stream",
     "text": [
      "indices:  [0, 8884, 626, 562, 1333, 5693]\n",
      "['<unk>', '친', '哈', '印', '丘', '蚜']\n",
      "字： ['我', '是', '熊', '宇', '宸', '测', '试', '下', '函', '数']\n",
      "[495, 10, 1950, 1145, 4144, 651, 722, 92, 1132, 103]\n"
     ]
    }
   ],
   "source": [
    "#调用词库的方法\n",
    "indice = [0, 8884, 626, 562, 1333, 5693]\n",
    "print('indices: ', indice)\n",
    "print(test_voca.to_tokens(indice))  # cao 发现忘记做繁简转换了\n",
    "\n",
    "words = list('我是熊宇宸测试下函数')\n",
    "print('字：', words)\n",
    "print(test_voca[words])"
   ]
  },
  {
   "cell_type": "code",
   "execution_count": null,
   "metadata": {},
   "outputs": [],
   "source": []
  }
 ],
 "metadata": {
  "kernelspec": {
   "display_name": "base",
   "language": "python",
   "name": "python3"
  },
  "language_info": {
   "codemirror_mode": {
    "name": "ipython",
    "version": 3
   },
   "file_extension": ".py",
   "mimetype": "text/x-python",
   "name": "python",
   "nbconvert_exporter": "python",
   "pygments_lexer": "ipython3",
   "version": "3.11.5"
  }
 },
 "nbformat": 4,
 "nbformat_minor": 2
}
