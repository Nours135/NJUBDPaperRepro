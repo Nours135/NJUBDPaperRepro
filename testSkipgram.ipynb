{
 "cells": [
  {
   "cell_type": "code",
   "execution_count": 51,
   "metadata": {},
   "outputs": [
    {
     "name": "stdout",
     "output_type": "stream",
     "text": [
      "voca读取成功\n",
      "tensor([[ 0.0658, -0.0517, -0.2832,  0.1990,  0.4710, -0.1424, -0.1084,  0.2110,\n",
      "         -0.2954,  0.0695,  0.2482, -0.0725, -0.3346,  0.0811,  0.4007,  0.0873,\n",
      "         -0.1557,  0.2638,  0.1518,  0.1409,  0.1927,  0.2028,  0.1418,  0.1817,\n",
      "          0.0916],\n",
      "        [-0.0309,  0.8294,  0.3473,  0.0379, -0.3182, -0.4953, -0.2454,  0.4245,\n",
      "         -0.4190, -0.6181,  0.1619,  0.0172, -0.3263, -0.4006,  0.1892, -0.7813,\n",
      "         -0.2028, -0.4336,  0.0671,  0.4441, -1.3459, -0.2262,  0.0240, -0.4498,\n",
      "         -0.2773]], grad_fn=<EmbeddingBackward0>)\n"
     ]
    }
   ],
   "source": [
    "import torch\n",
    "#import numpy as np\n",
    "#import torch.nn as nn\n",
    "#import torch.optim as optim\n",
    "#import torch.nn.functional as F\n",
    "#import matplotlib.pyplot as plt\n",
    "#import torch.utils.data as tud\n",
    "\n",
    "\n",
    "\n",
    "from func4skipgram import Vocab, wash_chinese, change_None\n",
    "import pickle\n",
    "import os\n",
    "\n",
    "# 导入模型定义\n",
    "from skipgram_model import EmbeddingModel\n",
    "    \n",
    "source = 'pinyin'\n",
    "\n",
    "# 读取词典\n",
    "with open('skipgram_corpus/' + source + '.bin', 'rb') as f:\n",
    "    voca = pickle.load(f)\n",
    "print('voca读取成功')\n",
    "# 创建并读取模型\n",
    "model = EmbeddingModel(len(voca), 25)  # 创建skip gram model\n",
    "model.load_state_dict(torch.load(f'models/skipgram_{source}.pth'))\n",
    "model.eval()\n",
    "\n",
    "# print(model.in_embed(torch.IntTensor([1, 3])))\n"
   ]
  },
  {
   "cell_type": "code",
   "execution_count": 48,
   "metadata": {},
   "outputs": [
    {
     "name": "stdout",
     "output_type": "stream",
     "text": [
      "('jī', ['jī', 'kōng', 'hōng', 'dí', 'zhàn', 'gòu', 'jiàn', 'páo', 'gōng', 'zhà'])\n",
      "('qì', ['qì', 'wēn', 'kōng', 'chòu', 'rǎn', 'dí', 'suān', 'huǎn', 'nuǎn', 'hōng'])\n",
      "('<unk>', ['<unk>', 'nián', 'yuè', 'rì', 'wàn', 'mǐ', 'yuē', 'yú', 'yuán', 'zhì'])\n",
      "('xué', ['xué', 'yuàn', 'xiào', 'kē', 'zhé', 'jiū', 'dà', 'jiào', 'wén', 'zhōng'])\n",
      "('xí', ['xuǎn', 'zhǔ', 'wěi', 'rèn', 'xí', 'xué', 'huì', 'dǎng', 'guó', 'yuàn'])\n",
      "('zhōng', ['guó', 'yāng', 'huá', 'xué', 'zhōng', 'gòng', 'mín', 'dà', 'dí', 'dǎng'])\n",
      "('jiān', ['shí', 'jiān', 'qī', 'dí', 'zhī', 'zài', 'kōng', 'cháng', 'yǒu', 'bù'])\n",
      "('kě', ['kě', 'néng', 'yǐ', 'yòng', 'guò', 'dí', 'zhè', 'bù', 'qiě', 'xū'])\n",
      "('yǐ', ['kě', 'yòng', 'yǐ', 'shì', 'tā', 'liáng', 'yǒu', 'néng', 'bù', 'shù'])\n",
      "('zuò', ['pǐn', 'dí', 'wéi', 'zuò', 'yòng', 'gōng', 'yào', 'shì', 'yǒu', 'zhè'])\n",
      "('sī', ['sī', 'tǎn', 'qiǎ', 'kè', 'ní', 'ěr', 'tè', 'ā', 'luó', 'mài'])\n",
      "('ān', ['ān', 'xī', 'shān', 'ní', 'lín', 'zhōu', 'dōng', 'jùn', 'yà', 'běi'])\n",
      "('suān', ['ǎn', 'suān', 'chòu', 'sòu', 'qiǎng', 'lào', 'rǎn', 'ròu', 'chún', 'yǎng'])\n",
      "('dàn', ['dí', 'dàn', 'bù', 'zhī', 'tā', 'ér', 'rán', 'shì', 'yǒu', 'shí'])\n",
      "('bái', ['sè', 'bái', 'mǎng', 'suān', 'ròu', 'shé', 'ǎn', 'fěn', 'chóng', 'niǎo'])\n",
      "('méi', ['yǒu', 'dí', 'méi', 'zhè', 'duō', 'yī', 'dàn', 'sè', 'shù', 'jù'])\n"
     ]
    }
   ],
   "source": [
    "# 三，直接输入词，查看这些单个的字模型给出的语境词预测\n",
    "\n",
    "testwords = ['机器3学习', '中间可-/%以x做', '丝氨酸蛋白酶'] # 在这里以列表存单个字或词或句的方式放你想测试的token\n",
    "\n",
    "from cnradical import Radical, RunOption\n",
    "radical = Radical(RunOption.Radical)\n",
    "pinyin = Radical(RunOption.Pinyin)\n",
    "\n",
    "res = wash_chinese(testwords)\n",
    "res = [change_None(pinyin.trans_ch, ele) for ele in res]\n",
    "\n",
    "preres = {} # 概率最大\n",
    "for token in res: # 取出中间可以做预测的词\n",
    "    center = token\n",
    "    ids = voca[center] # 取出来的是一个数字\n",
    "    ids = torch.IntTensor([ids])  # 得到预测\n",
    "    pre = model(ids)\n",
    "    \n",
    "    argm = torch.topk(pre, K, dim=1, largest=True, sorted=True, out=None) # -> (Tensor, LongTensor)\n",
    "    #print(argm)\n",
    "    prop = argm[0]\n",
    "    words = voca.to_tokens(list(argm[1][0]))\n",
    "    #print(words)\n",
    "    #print(context)\n",
    "    for word in context:\n",
    "        if word in words: \n",
    "            correct += 1\n",
    "    preres[center] = words\n",
    "\n",
    "\n",
    "print(*list(preres.items()), sep='\\n')"
   ]
  },
  {
   "cell_type": "code",
   "execution_count": 44,
   "metadata": {},
   "outputs": [
    {
     "name": "stdout",
     "output_type": "stream",
     "text": [
      "机器学习是一门多领域交叉学科涉及概率论统计学逼近论凸分析算法复杂度理论等多门学科专门研究计算机怎样模拟或实现人类的学习行为以获取新的知识或技能\n",
      "机器学习<unk><unk><unk><unk><unk><unk><unk><unk><unk><unk><unk><unk><unk><unk><unk><unk><unk><unk><unk><unk><unk><unk><unk><unk><unk><unk><unk><unk><unk><unk><unk><unk><unk><unk><unk><unk><unk><unk><unk><unk><unk><unk><unk><unk><unk><unk><unk><unk><unk><unk><unk><unk><unk><unk><unk><unk><unk><unk><unk><unk><unk><unk>\n",
      "机器学习niánniánniánniánniánniánniánniánniánniánniánniánniánniánniánniánniánniánniánniánniánniánniánniánniánniánniánniánniánniánniánniánniánniánniánniánniánniánniánniánniánniánniánniánniánniánniánniánniánniánniánniánniánniánniánniánniánniánniánniánniánnián\n",
      "机器学习yuèyuèyuèyuèyuèyuèyuèyuèyuèyuèyuèyuèyuèyuèyuèyuèyuèyuèyuèyuèyuèyuèyuèyuèyuèyuèyuèyuèyuèyuèyuèyuèyuèyuèyuèyuèyuèyuèyuèyuèyuèyuèyuèyuèyuèyuèyuèyuèyuèyuèyuèyuèyuèyuèyuèyuèyuèyuèyuèyuèyuèyuè\n",
      "机器学习rìrìrìrìrìrìrìrìrìrìrìrìrìrìrìrìrìrìrìrìrìrìrìrìrìrìrìrìrìrìrìrìrìrìrìrìrìrìrìrìrìrìrìrìrìrìrìrìrìrìrìrìrìrìrìrìrìrìrìrìrìrì\n",
      "正确率0.000000\n",
      "平均likelihood=-31.740771\n",
      "\n",
      "\n",
      "刘少奇（1898年11月24日-1969年11月12日）生于湖南省宁乡县伟大的马克思主义者\n",
      "刘少奇（<unk><unk><unk><unk><unk><unk><unk><unk><unk><unk><unk><unk><unk><unk><unk><unk><unk><unk><unk><unk><unk><unk><unk><unk><unk><unk><unk><unk><unk><unk><unk><unk><unk><unk><unk><unk>\n",
      "刘少奇（niánniánniánniánniánniánniánniánniánniánniánniánniánniánniánniánniánniánniánniánniánniánniánniánniánniánniánniánniánniánniánniánniánniánniánnián\n",
      "刘少奇（yuèyuèyuèyuèyuèyuèyuèyuèyuèyuèyuèyuèyuèyuèyuèyuèyuèyuèyuèyuèyuèyuèyuèyuèyuèyuèyuèyuèyuèyuèyuèyuèyuèyuèyuèyuè\n",
      "刘少奇（rìrìrìrìrìrìrìrìrìrìrìrìrìrìrìrìrìrìrìrìrìrìrìrìrìrìrìrìrìrìrìrìrìrìrìrì\n",
      "正确率0.000000\n",
      "平均likelihood=-30.409706\n",
      "\n",
      "\n"
     ]
    }
   ],
   "source": [
    "# 评价方法一\n",
    "C = 4\n",
    "testsentence = ['机器学习是一门多领域交叉学科，涉及概率论、统计学、逼近论、凸分析、算法复杂度理论等多门学科。专门研究计算机怎样模拟或实现人类的学习行为，以获取新的知识或技能',\n",
    "                '刘少奇（1898年11月24日-1969年11月12日），生于湖南省宁乡县，伟大的马克思主义者'\n",
    "\n",
    "]\n",
    "K = 4\n",
    "for s in testsentence:\n",
    "    res = wash_chinese(s)\n",
    "    pre1 = [[i]*K for i in list(res[:C])] # 概率最大\n",
    "    likelihood = [0]*C # 可能性\n",
    "    correct = 0\n",
    "    for i in range(len(res) - 2*C-1): # 取出中间可以做预测的词\n",
    "        context = res[i: i+C] + res[i+C+1:i+2*C+1]\n",
    "        center = res[i+3]\n",
    "        ids = voca[context]\n",
    "        ids = torch.IntTensor(ids)  # 只要输入的是列表就没有问题\n",
    "        pre = model(ids)\n",
    "        pre = pre.log().sum(dim=0) # 对数和 \n",
    "        topkpre = torch.topk(pre, K, dim=0, largest=True, sorted=True) # -> (Tensor, LongTensor)\n",
    "        prop = topkpre[0]\n",
    "        words = voca.to_tokens(list(topkpre[1]))\n",
    "        \n",
    "        #print(words)\n",
    "        #input()\n",
    "        if center in words: correct += 1\n",
    "        pre1.append(words)\n",
    "        likelihood.append(float(prop.mean(dim=0)))\n",
    "    print(''.join(res))\n",
    "    #print(''.join(pre1))\n",
    "    for i in range(K):\n",
    "        print(''.join([item[i] for item in pre1]))\n",
    "\n",
    "    print(f'正确率{correct/(len(res)-2*C):3f}')\n",
    "    print(f'平均likelihood={sum(likelihood)/len(likelihood):3f}')\n",
    "    print('\\n')\n",
    "\n",
    "\n"
   ]
  },
  {
   "cell_type": "code",
   "execution_count": 45,
   "metadata": {},
   "outputs": [
    {
     "name": "stdout",
     "output_type": "stream",
     "text": [
      "正确率0.000000\n",
      "\n",
      "\n",
      "('是', ['<unk>', 'nián', 'yuè', 'rì', 'wàn', 'mǐ', 'yuē', 'yú', 'yuán', 'zhì'])\n",
      "('一', ['<unk>', 'nián', 'yuè', 'rì', 'wàn', 'mǐ', 'yuē', 'yú', 'yuán', 'zhì'])\n",
      "('门', ['<unk>', 'nián', 'yuè', 'rì', 'wàn', 'mǐ', 'yuē', 'yú', 'yuán', 'zhì'])\n",
      "('多', ['<unk>', 'nián', 'yuè', 'rì', 'wàn', 'mǐ', 'yuē', 'yú', 'yuán', 'zhì'])\n",
      "('领', ['<unk>', 'nián', 'yuè', 'rì', 'wàn', 'mǐ', 'yuē', 'yú', 'yuán', 'zhì'])\n",
      "('域', ['<unk>', 'nián', 'yuè', 'rì', 'wàn', 'mǐ', 'yuē', 'yú', 'yuán', 'zhì'])\n",
      "('交', ['<unk>', 'nián', 'yuè', 'rì', 'wàn', 'mǐ', 'yuē', 'yú', 'yuán', 'zhì'])\n",
      "('叉', ['<unk>', 'nián', 'yuè', 'rì', 'wàn', 'mǐ', 'yuē', 'yú', 'yuán', 'zhì'])\n",
      "('学', ['<unk>', 'nián', 'yuè', 'rì', 'wàn', 'mǐ', 'yuē', 'yú', 'yuán', 'zhì'])\n",
      "('科', ['<unk>', 'nián', 'yuè', 'rì', 'wàn', 'mǐ', 'yuē', 'yú', 'yuán', 'zhì'])\n",
      "('涉', ['<unk>', 'nián', 'yuè', 'rì', 'wàn', 'mǐ', 'yuē', 'yú', 'yuán', 'zhì'])\n",
      "('及', ['<unk>', 'nián', 'yuè', 'rì', 'wàn', 'mǐ', 'yuē', 'yú', 'yuán', 'zhì'])\n",
      "('概', ['<unk>', 'nián', 'yuè', 'rì', 'wàn', 'mǐ', 'yuē', 'yú', 'yuán', 'zhì'])\n",
      "('率', ['<unk>', 'nián', 'yuè', 'rì', 'wàn', 'mǐ', 'yuē', 'yú', 'yuán', 'zhì'])\n",
      "('论', ['<unk>', 'nián', 'yuè', 'rì', 'wàn', 'mǐ', 'yuē', 'yú', 'yuán', 'zhì'])\n",
      "('统', ['<unk>', 'nián', 'yuè', 'rì', 'wàn', 'mǐ', 'yuē', 'yú', 'yuán', 'zhì'])\n",
      "('计', ['<unk>', 'nián', 'yuè', 'rì', 'wàn', 'mǐ', 'yuē', 'yú', 'yuán', 'zhì'])\n",
      "('逼', ['<unk>', 'nián', 'yuè', 'rì', 'wàn', 'mǐ', 'yuē', 'yú', 'yuán', 'zhì'])\n",
      "('近', ['<unk>', 'nián', 'yuè', 'rì', 'wàn', 'mǐ', 'yuē', 'yú', 'yuán', 'zhì'])\n",
      "('凸', ['<unk>', 'nián', 'yuè', 'rì', 'wàn', 'mǐ', 'yuē', 'yú', 'yuán', 'zhì'])\n",
      "('分', ['<unk>', 'nián', 'yuè', 'rì', 'wàn', 'mǐ', 'yuē', 'yú', 'yuán', 'zhì'])\n",
      "('析', ['<unk>', 'nián', 'yuè', 'rì', 'wàn', 'mǐ', 'yuē', 'yú', 'yuán', 'zhì'])\n",
      "('算', ['<unk>', 'nián', 'yuè', 'rì', 'wàn', 'mǐ', 'yuē', 'yú', 'yuán', 'zhì'])\n",
      "('法', ['<unk>', 'nián', 'yuè', 'rì', 'wàn', 'mǐ', 'yuē', 'yú', 'yuán', 'zhì'])\n",
      "('复', ['<unk>', 'nián', 'yuè', 'rì', 'wàn', 'mǐ', 'yuē', 'yú', 'yuán', 'zhì'])\n",
      "('杂', ['<unk>', 'nián', 'yuè', 'rì', 'wàn', 'mǐ', 'yuē', 'yú', 'yuán', 'zhì'])\n",
      "('度', ['<unk>', 'nián', 'yuè', 'rì', 'wàn', 'mǐ', 'yuē', 'yú', 'yuán', 'zhì'])\n",
      "('理', ['<unk>', 'nián', 'yuè', 'rì', 'wàn', 'mǐ', 'yuē', 'yú', 'yuán', 'zhì'])\n",
      "('等', ['<unk>', 'nián', 'yuè', 'rì', 'wàn', 'mǐ', 'yuē', 'yú', 'yuán', 'zhì'])\n",
      "('专', ['<unk>', 'nián', 'yuè', 'rì', 'wàn', 'mǐ', 'yuē', 'yú', 'yuán', 'zhì'])\n",
      "('研', ['<unk>', 'nián', 'yuè', 'rì', 'wàn', 'mǐ', 'yuē', 'yú', 'yuán', 'zhì'])\n",
      "('究', ['<unk>', 'nián', 'yuè', 'rì', 'wàn', 'mǐ', 'yuē', 'yú', 'yuán', 'zhì'])\n",
      "('机', ['<unk>', 'nián', 'yuè', 'rì', 'wàn', 'mǐ', 'yuē', 'yú', 'yuán', 'zhì'])\n",
      "('怎', ['<unk>', 'nián', 'yuè', 'rì', 'wàn', 'mǐ', 'yuē', 'yú', 'yuán', 'zhì'])\n",
      "('样', ['<unk>', 'nián', 'yuè', 'rì', 'wàn', 'mǐ', 'yuē', 'yú', 'yuán', 'zhì'])\n",
      "('模', ['<unk>', 'nián', 'yuè', 'rì', 'wàn', 'mǐ', 'yuē', 'yú', 'yuán', 'zhì'])\n",
      "('拟', ['<unk>', 'nián', 'yuè', 'rì', 'wàn', 'mǐ', 'yuē', 'yú', 'yuán', 'zhì'])\n",
      "('或', ['<unk>', 'nián', 'yuè', 'rì', 'wàn', 'mǐ', 'yuē', 'yú', 'yuán', 'zhì'])\n",
      "('实', ['<unk>', 'nián', 'yuè', 'rì', 'wàn', 'mǐ', 'yuē', 'yú', 'yuán', 'zhì'])\n",
      "('现', ['<unk>', 'nián', 'yuè', 'rì', 'wàn', 'mǐ', 'yuē', 'yú', 'yuán', 'zhì'])\n",
      "('人', ['<unk>', 'nián', 'yuè', 'rì', 'wàn', 'mǐ', 'yuē', 'yú', 'yuán', 'zhì'])\n",
      "('类', ['<unk>', 'nián', 'yuè', 'rì', 'wàn', 'mǐ', 'yuē', 'yú', 'yuán', 'zhì'])\n",
      "('的', ['<unk>', 'nián', 'yuè', 'rì', 'wàn', 'mǐ', 'yuē', 'yú', 'yuán', 'zhì'])\n",
      "('习', ['<unk>', 'nián', 'yuè', 'rì', 'wàn', 'mǐ', 'yuē', 'yú', 'yuán', 'zhì'])\n",
      "('行', ['<unk>', 'nián', 'yuè', 'rì', 'wàn', 'mǐ', 'yuē', 'yú', 'yuán', 'zhì'])\n",
      "('为', ['<unk>', 'nián', 'yuè', 'rì', 'wàn', 'mǐ', 'yuē', 'yú', 'yuán', 'zhì'])\n",
      "('以', ['<unk>', 'nián', 'yuè', 'rì', 'wàn', 'mǐ', 'yuē', 'yú', 'yuán', 'zhì'])\n",
      "('获', ['<unk>', 'nián', 'yuè', 'rì', 'wàn', 'mǐ', 'yuē', 'yú', 'yuán', 'zhì'])\n",
      "('取', ['<unk>', 'nián', 'yuè', 'rì', 'wàn', 'mǐ', 'yuē', 'yú', 'yuán', 'zhì'])\n",
      "('新', ['<unk>', 'nián', 'yuè', 'rì', 'wàn', 'mǐ', 'yuē', 'yú', 'yuán', 'zhì'])\n"
     ]
    }
   ],
   "source": [
    "# 评价方法二，找出预测概率最高的几个词，判断8个窗口词是否被包含在内\n",
    "C = 4\n",
    "testsentence = ['机器学习是一门多领域交叉学科，涉及概率论、统计学、逼近论、凸分析、算法复杂度理论等多门学科。专门研究计算机怎样模拟或实现人类的学习行为，以获取新的知识或技能',\n",
    "                '刘少奇（1898年11月24日-1969年11月12日），生于湖南省宁乡县，伟大的马克思主义者'\n",
    "\n",
    "]\n",
    "K = 10\n",
    "# torch.topk(input, k, dim=None, largest=True, sorted=True, out=None) -> (Tensor, LongTensor)\n",
    "#input:tensor数据\n",
    "#k:排序后的前k个数据\n",
    "#dim:沿着某个维度\n",
    "#largest：True是指从大到小，否则，从小到大\n",
    "#sorted:True返回的结果\n",
    "\n",
    "\n",
    "for s in testsentence[:1]:\n",
    "    res = wash_chinese(s)\n",
    "    preres = {} # 概率最大\n",
    "    likelihood = [] # 可能性\n",
    "    correct = 0\n",
    "    for i in range(len(res) - 2*C-1): # 取出中间可以做预测的词\n",
    "        context = res[i: i+C] + res[i+C+1:i+2*C+1]\n",
    "        center = [res[i+C]]\n",
    "        ids = voca[center] # 取出来的是一个数字\n",
    "        ids = torch.IntTensor(ids)  # 得到预测\n",
    "        pre = model(ids)\n",
    "        \n",
    "        argm = torch.topk(pre, K, dim=1, largest=True, sorted=True, out=None) # -> (Tensor, LongTensor)\n",
    "        #print(argm)\n",
    "        prop = argm[0]\n",
    "        words = voca.to_tokens(list(argm[1][0]))\n",
    "        #print(words)\n",
    "        #print(context)\n",
    "        for word in context:\n",
    "            if word in words: \n",
    "                correct += 1\n",
    "        preres[center[0]] = words\n",
    "        likelihood.append(prop)\n",
    "\n",
    "    print(f'正确率{correct/((len(res)-2*C)*2*C):3f}')\n",
    "    #print(f'平均likelihood={sum(likelihood)/len(likelihood):3f}')\n",
    "    print('\\n')\n",
    "    print(*list(preres.items()), sep='\\n')"
   ]
  },
  {
   "cell_type": "code",
   "execution_count": 46,
   "metadata": {},
   "outputs": [
    {
     "name": "stdout",
     "output_type": "stream",
     "text": [
      "[5, 6, 7, 8, 9, 10, 11, 12, 13, 14, 15, 16, 17, 18, 19, 20, 21, 22, 23, 24, 25, 26, 27, 28, 29, 30, 31, 28, 29, 30, 31, 32, 33, 34, 35]\n",
      "[26.381948297674004, 26.380108746615324, 26.549691460349344, 26.155991649627687, 26.444425756281074, 26.339628219604492, 26.48200104453347, 26.46143878589977, 26.314625479958274, 26.333254033868965, 26.301557540893555, 26.48721001364968, 25.35686510259455, 26.421031951904297, 26.30510676990856, 25.979937293312766, 26.336240595037285, 26.36460425636985, 26.317893635142934, 25.89134303006259, 26.414974212646484, 26.2922082380815, 26.387517408891156, 26.40806007385254, 26.3297927162864, 26.322310187599875, 26.318329897793856, 26.854218743064187, 26.80208986455744, 26.800600051879883, 26.422456741333008, 26.374874635176226, 26.375782706520774, 26.374267057939008, 26.37222671508789]\n"
     ]
    },
    {
     "data": {
      "image/png": "[encoded data removed]",
      "text/plain": [
       "<Figure size 800x500 with 1 Axes>"
      ]
     },
     "metadata": {},
     "output_type": "display_data"
    }
   ],
   "source": [
    "\n",
    "# 绘制loss曲线\n",
    "def draw_loss_cur(logfP):\n",
    "    with open(logfP, 'r', encoding='utf-8') as f:\n",
    "        lines = f.readlines()\n",
    "    data_l = []\n",
    "    for line in lines:\n",
    "        if line[0] != '<':\n",
    "            continue\n",
    "        epoch, _ = line.split(',')\n",
    "        epoch = int(epoch[1:].strip())\n",
    "        loss = _.split('=')[1].split('. time use')[0]\n",
    "        loss = float(loss.strip())\n",
    "        data_l.append([epoch, loss, 1])\n",
    "    new_l = []\n",
    "    last = 100000\n",
    "    for item in data_l:\n",
    "        if item[0] == last: # 和上一个相同，则累加\n",
    "            new_l[-1][1] += item[1]\n",
    "            new_l[-1][2] += item[2]\n",
    "        else:\n",
    "            new_l.append(item)\n",
    "            last = item[0]\n",
    "    \n",
    "    x_epoch = [item[0] for item in new_l]\n",
    "    y_loss = [item[1]/item[2] for item in new_l]\n",
    "    import matplotlib.pyplot as plt\n",
    "    plt.figure(figsize=(8, 5))\n",
    "    print(x_epoch)\n",
    "    print(y_loss)\n",
    "    plt.plot(x_epoch, y_loss, c=\"g\", marker='D', markersize=5)\n",
    " \n",
    "    #绘制坐标轴标签\n",
    "    plt.xlabel(\"epoch\")\n",
    "    plt.ylabel(\"loss\")\n",
    "    plt.title(\"train loss\")\n",
    "\n",
    "\n",
    "draw_loss_cur('meaning_train.log')"
   ]
  },
  {
   "cell_type": "code",
   "execution_count": 47,
   "metadata": {},
   "outputs": [
    {
     "data": {
      "text/plain": [
       "5"
      ]
     },
     "execution_count": 47,
     "metadata": {},
     "output_type": "execute_result"
    }
   ],
   "source": [
    "max([1, 3, 5])"
   ]
  }
 ],
 "metadata": {
  "kernelspec": {
   "display_name": "base",
   "language": "python",
   "name": "python3"
  },
  "language_info": {
   "codemirror_mode": {
    "name": "ipython",
    "version": 3
   },
   "file_extension": ".py",
   "mimetype": "text/x-python",
   "name": "python",
   "nbconvert_exporter": "python",
   "pygments_lexer": "ipython3",
   "version": "3.11.5"
  }
 },
 "nbformat": 4,
 "nbformat_minor": 2
}
